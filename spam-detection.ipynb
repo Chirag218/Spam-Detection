import pandas as pd
import numpy as np
import matplotlib plt
import seaborn as sns

df = pd.read_csv("spam.csv")
